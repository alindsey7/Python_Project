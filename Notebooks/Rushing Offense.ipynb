{
 "cells": [
  {
   "cell_type": "code",
   "execution_count": 3,
   "id": "46b096fe",
   "metadata": {},
   "outputs": [
    {
     "name": "stderr",
     "output_type": "stream",
     "text": [
      "C:\\Users\\Chris\\anaconda3\\lib\\site-packages\\pandas\\core\\frame.py:3641: SettingWithCopyWarning: \n",
      "A value is trying to be set on a copy of a slice from a DataFrame.\n",
      "Try using .loc[row_indexer,col_indexer] = value instead\n",
      "\n",
      "See the caveats in the documentation: https://pandas.pydata.org/pandas-docs/stable/user_guide/indexing.html#returning-a-view-versus-a-copy\n",
      "  self[k1] = value[k2]\n",
      "C:\\Users\\Chris\\AppData\\Local\\Temp/ipykernel_5820/2807180537.py:40: SettingWithCopyWarning: \n",
      "A value is trying to be set on a copy of a slice from a DataFrame.\n",
      "Try using .loc[row_indexer,col_indexer] = value instead\n",
      "\n",
      "See the caveats in the documentation: https://pandas.pydata.org/pandas-docs/stable/user_guide/indexing.html#returning-a-view-versus-a-copy\n",
      "  Rushing_yards_clean[\"Score\"] = Rushing_yards_clean[\"Score\"].astype(int)\n",
      "C:\\Users\\Chris\\AppData\\Local\\Temp/ipykernel_5820/2807180537.py:41: SettingWithCopyWarning: \n",
      "A value is trying to be set on a copy of a slice from a DataFrame.\n",
      "Try using .loc[row_indexer,col_indexer] = value instead\n",
      "\n",
      "See the caveats in the documentation: https://pandas.pydata.org/pandas-docs/stable/user_guide/indexing.html#returning-a-view-versus-a-copy\n",
      "  Rushing_yards_clean[\"Rushing Yards\"] = Rushing_yards_clean[\"Rushing Yards\"].astype(int)\n"
     ]
    },
    {
     "data": {
      "text/html": [
       "<div>\n",
       "<style scoped>\n",
       "    .dataframe tbody tr th:only-of-type {\n",
       "        vertical-align: middle;\n",
       "    }\n",
       "\n",
       "    .dataframe tbody tr th {\n",
       "        vertical-align: top;\n",
       "    }\n",
       "\n",
       "    .dataframe thead th {\n",
       "        text-align: right;\n",
       "    }\n",
       "</style>\n",
       "<table border=\"1\" class=\"dataframe\">\n",
       "  <thead>\n",
       "    <tr style=\"text-align: right;\">\n",
       "      <th></th>\n",
       "      <th>Score</th>\n",
       "      <th>Rushing Yards</th>\n",
       "    </tr>\n",
       "  </thead>\n",
       "  <tbody>\n",
       "    <tr>\n",
       "      <th>3</th>\n",
       "      <td>24</td>\n",
       "      <td>17</td>\n",
       "    </tr>\n",
       "    <tr>\n",
       "      <th>31</th>\n",
       "      <td>16</td>\n",
       "      <td>1</td>\n",
       "    </tr>\n",
       "    <tr>\n",
       "      <th>33</th>\n",
       "      <td>28</td>\n",
       "      <td>5</td>\n",
       "    </tr>\n",
       "    <tr>\n",
       "      <th>47</th>\n",
       "      <td>21</td>\n",
       "      <td>0</td>\n",
       "    </tr>\n",
       "    <tr>\n",
       "      <th>48</th>\n",
       "      <td>12</td>\n",
       "      <td>11</td>\n",
       "    </tr>\n",
       "    <tr>\n",
       "      <th>...</th>\n",
       "      <td>...</td>\n",
       "      <td>...</td>\n",
       "    </tr>\n",
       "    <tr>\n",
       "      <th>40159</th>\n",
       "      <td>17</td>\n",
       "      <td>6</td>\n",
       "    </tr>\n",
       "    <tr>\n",
       "      <th>40161</th>\n",
       "      <td>3</td>\n",
       "      <td>2</td>\n",
       "    </tr>\n",
       "    <tr>\n",
       "      <th>40162</th>\n",
       "      <td>13</td>\n",
       "      <td>19</td>\n",
       "    </tr>\n",
       "    <tr>\n",
       "      <th>40163</th>\n",
       "      <td>24</td>\n",
       "      <td>3</td>\n",
       "    </tr>\n",
       "    <tr>\n",
       "      <th>40164</th>\n",
       "      <td>20</td>\n",
       "      <td>-3</td>\n",
       "    </tr>\n",
       "  </tbody>\n",
       "</table>\n",
       "<p>8214 rows × 2 columns</p>\n",
       "</div>"
      ],
      "text/plain": [
       "       Score  Rushing Yards\n",
       "3         24             17\n",
       "31        16              1\n",
       "33        28              5\n",
       "47        21              0\n",
       "48        12             11\n",
       "...      ...            ...\n",
       "40159     17              6\n",
       "40161      3              2\n",
       "40162     13             19\n",
       "40163     24              3\n",
       "40164     20             -3\n",
       "\n",
       "[8214 rows x 2 columns]"
      ]
     },
     "execution_count": 3,
     "metadata": {},
     "output_type": "execute_result"
    }
   ],
   "source": [
    "# Import dependencies\n",
    "from matplotlib import pyplot as plt\n",
    "from scipy.stats import linregress\n",
    "import numpy as np\n",
    "from sklearn import datasets\n",
    "import pandas as pd\n",
    "\n",
    "\n",
    "# Data paths\n",
    "Game_Logs_Quarterback_path = \"../Resources/Game_Logs_Quarterback.csv\"\n",
    "Game_Logs_Runningback_path = \"../Resources/Game_Logs_Runningback.csv\"\n",
    "Game_Logs_Wide_Receiver_and_Tight_End_path = \"../Resources/Game_Logs_Wide_Receiver_and_Tight_End.csv\"\n",
    "\n",
    "\n",
    "# Reading relevant datasets\n",
    "QB_data = pd.read_csv(Game_Logs_Quarterback_path)\n",
    "Runningback_data = pd.read_csv(Game_Logs_Runningback_path)\n",
    "WR_Tightend_data = pd.read_csv(Game_Logs_Wide_Receiver_and_Tight_End_path)\n",
    "\n",
    "# Merging Datasets\n",
    "Rushing_data = pd.merge(QB_data, Runningback_data, how=\"left\")\n",
    "Rushing_data = pd.merge(Rushing_data, WR_Tightend_data, how=\"left\")\n",
    "\n",
    "# Keeping relevant columns\n",
    "Rushing_data_reduced = Rushing_data.loc[:, [\"Player Id\", \"Year\", \"Outcome\", \"Score\", \"Rushing Attempts\", \n",
    "                                            \"Rushing Yards\", \"Yards Per Carry\", \"Rushing TDs\"]]\n",
    "\n",
    "# Keeping only years after 2000\n",
    "Rushing_data_reduced_clean = Rushing_data_reduced.loc[(Rushing_data_reduced[\"Year\"] >= 2000)]\n",
    "\n",
    "# Formatting score to only have player's team's score\n",
    "Rushing_data_reduced_clean[[\"Score\", \"to\", \"Opponent Score\"]] = Rushing_data_reduced_clean[\"Score\"].str.split(expand=True)\n",
    "Rushing_yards = Rushing_data_reduced_clean.loc[:, [\"Score\", \"Rushing Yards\"]]\n",
    "\n",
    "\n",
    "# Removing any empty values in Rushing Yards\n",
    "Rushing_yards_clean = Rushing_yards.loc[(Rushing_yards[\"Rushing Yards\"] != \"--\")]\n",
    "\n",
    "# Converting score column and rushing yards column to int\n",
    "Rushing_yards_clean[\"Score\"] = Rushing_yards_clean[\"Score\"].astype(int)\n",
    "Rushing_yards_clean[\"Rushing Yards\"] = Rushing_yards_clean[\"Rushing Yards\"].astype(int)\n",
    "\n",
    "#Rushing_yards_clean = Rushing_yards_clean.loc[(Rushing_yards_clean[\"Rushing Yards\"] > 0)]\n",
    "\n",
    "Rushing_yards_clean"
   ]
  },
  {
   "cell_type": "code",
   "execution_count": 4,
   "id": "8edfb5d4",
   "metadata": {},
   "outputs": [
    {
     "name": "stdout",
     "output_type": "stream",
     "text": [
      "The r-squared is: 0.0005191660288050446\n"
     ]
    },
    {
     "data": {
      "image/png": "[encoded data removed]",
      "text/plain": [
       "<Figure size 432x288 with 1 Axes>"
      ]
     },
     "metadata": {
      "needs_background": "light"
     },
     "output_type": "display_data"
    }
   ],
   "source": [
    "x_values = Rushing_yards_clean[\"Rushing Yards\"]\n",
    "y_values = Rushing_yards_clean[\"Score\"]\n",
    "(slope, intercept, rvalue, pvalue, stderr) = linregress(x_values, y_values)\n",
    "regress_values = x_values * slope + intercept\n",
    "line_eq = \"y = \" + str(round(slope,5)) + \"x + \" + str(round(intercept,5))\n",
    "plt.scatter(x_values,y_values)\n",
    "plt.plot(x_values,regress_values,\"r-\")\n",
    "plt.annotate(line_eq,(90,55),fontsize=15,color=\"red\")\n",
    "plt.xlabel('Rushing Yards per Player in a Game')\n",
    "plt.ylabel('Score of Team')\n",
    "print(f\"The r-squared is: {rvalue**2}\")\n",
    "plt.show()"
   ]
  },
  {
   "cell_type": "code",
   "execution_count": null,
   "id": "7e068404",
   "metadata": {},
   "outputs": [],
   "source": [
    "'''\n",
    "With an R^2 value of 0.0005, there is a very weak correlation between score and rushing yards per player in a game. \n",
    "The regression line shows a slight negative correlation when including net negative rushing yards.\n",
    "''' \n",
    "\n"
   ]
  }
 ],
 "metadata": {
  "kernelspec": {
   "display_name": "Python 3 (ipykernel)",
   "language": "python",
   "name": "python3"
  },
  "language_info": {
   "codemirror_mode": {
    "name": "ipython",
    "version": 3
   },
   "file_extension": ".py",
   "mimetype": "text/x-python",
   "name": "python",
   "nbconvert_exporter": "python",
   "pygments_lexer": "ipython3",
   "version": "3.9.7"
  }
 },
 "nbformat": 4,
 "nbformat_minor": 5
}
