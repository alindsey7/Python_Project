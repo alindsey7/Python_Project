{
 "cells": [
  {
   "cell_type": "code",
   "execution_count": null,
   "id": "dccc5c5b",
   "metadata": {},
   "outputs": [],
   "source": [
    "'''\n",
    "Does per game average net punt yards impact winning percentage?\n",
    "'''"
   ]
  },
  {
   "cell_type": "code",
   "execution_count": 53,
   "id": "ad78898e",
   "metadata": {},
   "outputs": [],
   "source": [
    "import pandas as pd\n",
    "import matplotlib.pyplot as plt\n",
    "from scipy.stats import linregress"
   ]
  },
  {
   "cell_type": "code",
   "execution_count": 45,
   "id": "131de91b",
   "metadata": {
    "scrolled": false
   },
   "outputs": [
    {
     "data": {
      "text/html": [
       "<div>\n",
       "<style scoped>\n",
       "    .dataframe tbody tr th:only-of-type {\n",
       "        vertical-align: middle;\n",
       "    }\n",
       "\n",
       "    .dataframe tbody tr th {\n",
       "        vertical-align: top;\n",
       "    }\n",
       "\n",
       "    .dataframe thead th {\n",
       "        text-align: right;\n",
       "    }\n",
       "</style>\n",
       "<table border=\"1\" class=\"dataframe\">\n",
       "  <thead>\n",
       "    <tr style=\"text-align: right;\">\n",
       "      <th></th>\n",
       "      <th>Outcome</th>\n",
       "      <th>Net Punting Average</th>\n",
       "    </tr>\n",
       "    <tr>\n",
       "      <th>Name</th>\n",
       "      <th></th>\n",
       "      <th></th>\n",
       "    </tr>\n",
       "  </thead>\n",
       "  <tbody>\n",
       "    <tr>\n",
       "      <th>Aguiar, Louie</th>\n",
       "      <td>44.444444</td>\n",
       "      <td>34.511111</td>\n",
       "    </tr>\n",
       "    <tr>\n",
       "      <th>Allen, Matt</th>\n",
       "      <td>62.500000</td>\n",
       "      <td>28.818750</td>\n",
       "    </tr>\n",
       "    <tr>\n",
       "      <th>Allen, Ryan</th>\n",
       "      <td>78.125000</td>\n",
       "      <td>39.256250</td>\n",
       "    </tr>\n",
       "    <tr>\n",
       "      <th>Anger, Bryan</th>\n",
       "      <td>28.750000</td>\n",
       "      <td>40.772500</td>\n",
       "    </tr>\n",
       "    <tr>\n",
       "      <th>Araguz, Leo</th>\n",
       "      <td>44.444444</td>\n",
       "      <td>32.788889</td>\n",
       "    </tr>\n",
       "    <tr>\n",
       "      <th>...</th>\n",
       "      <td>...</td>\n",
       "      <td>...</td>\n",
       "    </tr>\n",
       "    <tr>\n",
       "      <th>Walter, Ken</th>\n",
       "      <td>64.705882</td>\n",
       "      <td>34.414706</td>\n",
       "    </tr>\n",
       "    <tr>\n",
       "      <th>Way, Tress</th>\n",
       "      <td>44.791667</td>\n",
       "      <td>38.947917</td>\n",
       "    </tr>\n",
       "    <tr>\n",
       "      <th>Weatherford, Steve</th>\n",
       "      <td>50.349650</td>\n",
       "      <td>37.641958</td>\n",
       "    </tr>\n",
       "    <tr>\n",
       "      <th>Wing, Brad</th>\n",
       "      <td>58.333333</td>\n",
       "      <td>39.852083</td>\n",
       "    </tr>\n",
       "    <tr>\n",
       "      <th>Zastudil, Dave</th>\n",
       "      <td>44.508671</td>\n",
       "      <td>34.480925</td>\n",
       "    </tr>\n",
       "  </tbody>\n",
       "</table>\n",
       "<p>74 rows × 2 columns</p>\n",
       "</div>"
      ],
      "text/plain": [
       "                      Outcome  Net Punting Average\n",
       "Name                                              \n",
       "Aguiar, Louie       44.444444            34.511111\n",
       "Allen, Matt         62.500000            28.818750\n",
       "Allen, Ryan         78.125000            39.256250\n",
       "Anger, Bryan        28.750000            40.772500\n",
       "Araguz, Leo         44.444444            32.788889\n",
       "...                       ...                  ...\n",
       "Walter, Ken         64.705882            34.414706\n",
       "Way, Tress          44.791667            38.947917\n",
       "Weatherford, Steve  50.349650            37.641958\n",
       "Wing, Brad          58.333333            39.852083\n",
       "Zastudil, Dave      44.508671            34.480925\n",
       "\n",
       "[74 rows x 2 columns]"
      ]
     },
     "execution_count": 45,
     "metadata": {},
     "output_type": "execute_result"
    }
   ],
   "source": [
    "#Importing and Cleaning Data\n",
    "special_teams_df = pd.read_csv('../Resources/Game_Logs_Punters.csv')\n",
    "\n",
    "special_teams_clean = special_teams_df[['Name','Year', 'Season', 'Outcome', 'Punts', 'Net Punting Average']]\n",
    "special_teams_rs = special_teams_clean.loc[special_teams_clean['Season'] == 'Regular Season']\n",
    "after_2000_df = special_teams_rs.loc[special_teams_rs['Year'] >= 2000]\n",
    "string_df = after_2000_df[['Name','Outcome', 'Net Punting Average']]\n",
    "numeric_df = string_df.replace(to_replace=['W','L','T'], value=[100, 0, 50])\n",
    "numeric_df = numeric_df.replace(to_replace= '--', value=0)\n",
    "numeric_df['Net Punting Average'] = numeric_df['Net Punting Average'].astype('double')\n",
    "\n",
    "#Using Groupby to get winning percentage and career net punt yards\n",
    "winning_punt_df = numeric_df.groupby(by='Name').mean()\n",
    "\n",
    "#Removing Punters who never punted\n",
    "winning_punt_df = winning_punt_df.loc[winning_punt_df['Net Punting Average'] != 0]\n",
    "winning_punt_df"
   ]
  },
  {
   "cell_type": "code",
   "execution_count": 50,
   "id": "05f1887a",
   "metadata": {},
   "outputs": [
    {
     "data": {
      "image/png": "[encoded data removed]",
      "text/plain": [
       "<Figure size 432x288 with 1 Axes>"
      ]
     },
     "metadata": {
      "needs_background": "light"
     },
     "output_type": "display_data"
    }
   ],
   "source": [
    "winning_punt_df.plot(kind='scatter', x='Outcome', y='Net Punting Average')\n",
    "plt.xlabel('Winning Percentage')\n",
    "plt.title('Net Punting Average (Per Game) vs Winning Percentage')\n",
    "\n",
    "plt.show()"
   ]
  },
  {
   "cell_type": "code",
   "execution_count": 58,
   "id": "8494121a",
   "metadata": {},
   "outputs": [
    {
     "data": {
      "image/png": "[encoded data removed]",
      "text/plain": [
       "<Figure size 432x288 with 1 Axes>"
      ]
     },
     "metadata": {
      "needs_background": "light"
     },
     "output_type": "display_data"
    },
    {
     "name": "stdout",
     "output_type": "stream",
     "text": [
      "The r^2 value is 0.008881002642968396\n",
      "0.09423907174292623\n"
     ]
    }
   ],
   "source": [
    "x_values = winning_punt_df['Outcome']\n",
    "y_values = winning_punt_df['Net Punting Average']\n",
    "(slope, intercept, rvalue, pvalue, stderr) = linregress(x_values, y_values)\n",
    "regress_values = x_values * slope + intercept\n",
    "line_eq = \"y = \" + str(round(slope,2)) + \"x + \" + str(round(intercept,2))\n",
    "plt.scatter(x_values,y_values)\n",
    "plt.plot(x_values,regress_values,\"r-\")\n",
    "plt.annotate(line_eq,(30,20),fontsize=15,color=\"red\")\n",
    "plt.xlabel('Winning Percentage')\n",
    "plt.ylabel('Net Punting Average')\n",
    "plt.show()\n",
    "print(f'The r^2 value is {rvalue * rvalue}')"
   ]
  },
  {
   "cell_type": "code",
   "execution_count": null,
   "id": "aa5f0040",
   "metadata": {},
   "outputs": [],
   "source": [
    "'''\n",
    "With an r value of .09423, we find a very weak positive correlation\n",
    "between net punting yards per game and winning percentage. Further,\n",
    "only about .888% of the variation in winning percentage can be explained\n",
    "by net punting yards per game.\n",
    "'''"
   ]
  }
 ],
 "metadata": {
  "kernelspec": {
   "display_name": "Python 3 (ipykernel)",
   "language": "python",
   "name": "python3"
  },
  "language_info": {
   "codemirror_mode": {
    "name": "ipython",
    "version": 3
   },
   "file_extension": ".py",
   "mimetype": "text/x-python",
   "name": "python",
   "nbconvert_exporter": "python",
   "pygments_lexer": "ipython3",
   "version": "3.8.12"
  }
 },
 "nbformat": 4,
 "nbformat_minor": 5
}
