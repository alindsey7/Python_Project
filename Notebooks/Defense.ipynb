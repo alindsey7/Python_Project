{
 "cells": [
  {
   "cell_type": "code",
   "execution_count": 1,
   "id": "9adc6e02",
   "metadata": {},
   "outputs": [],
   "source": [
    "#Compare the Dallas Cowboys (since 2000) [Sacks, Safties, Ints] to NFC East Competitors [Eagles, Redskins, Giants}\n",
    "#average [Sacks, Safties, Ints]? \n",
    "#Ttest, statistically different Sacks, Safties, Ints?\n",
    "#Plot "
   ]
  },
  {
   "cell_type": "code",
   "execution_count": 2,
   "id": "8fab2a8b",
   "metadata": {},
   "outputs": [],
   "source": [
    "# Dependencies and Setup\n",
    "import pandas as pd\n",
    "import numpy as np\n",
    "import matplotlib.pyplot as plt\n",
    "#from scipy.stats import linregress\n",
    "import scipy.stats as stats\n",
    "import warnings\n",
    "warnings.filterwarnings('ignore')\n",
    "\n",
    "\n",
    "# File to Load (Remember to Change These)\n",
    "file_to_load = \"../Resources/Career_Stats_Defensive.csv\"\n",
    "\n",
    "# Read Purchasing File and store into Pandas data frame\n",
    "defense_data = pd.read_csv(file_to_load)"
   ]
  },
  {
   "cell_type": "code",
   "execution_count": 3,
   "id": "10443c9d",
   "metadata": {},
   "outputs": [
    {
     "data": {
      "text/plain": [
       "Index(['Player Id', 'Name', 'Position', 'Year', 'Team', 'Games Played',\n",
       "       'Total Tackles', 'Solo Tackles', 'Assisted Tackles', 'Sacks', 'Safties',\n",
       "       'Passes Defended', 'Ints', 'Ints for TDs', 'Int Yards', 'Yards Per Int',\n",
       "       'Longest Int Return'],\n",
       "      dtype='object')"
      ]
     },
     "execution_count": 3,
     "metadata": {},
     "output_type": "execute_result"
    }
   ],
   "source": [
    "defense_data.columns"
   ]
  },
  {
   "cell_type": "code",
   "execution_count": 4,
   "id": "fe3e4886",
   "metadata": {},
   "outputs": [
    {
     "data": {
      "text/plain": [
       "Player Id              object\n",
       "Name                   object\n",
       "Position               object\n",
       "Year                    int64\n",
       "Team                   object\n",
       "Games Played            int64\n",
       "Total Tackles          object\n",
       "Solo Tackles           object\n",
       "Assisted Tackles       object\n",
       "Sacks                 float64\n",
       "Safties               float64\n",
       "Passes Defended        object\n",
       "Ints                  float64\n",
       "Ints for TDs           object\n",
       "Int Yards              object\n",
       "Yards Per Int         float64\n",
       "Longest Int Return     object\n",
       "dtype: object"
      ]
     },
     "execution_count": 4,
     "metadata": {},
     "output_type": "execute_result"
    }
   ],
   "source": [
    " \n",
    "#clean data, pick the columns\n",
    "defense_data_a = defense_data[['Name', 'Year', 'Team','Sacks', 'Safties', 'Ints']]\n",
    "defense_stats = defense_data_a.loc[defense_data_a['Year'] >= 2000]\n",
    "\n",
    "\n",
    "#the Dallas Cowboys \n",
    "defense_data_dal = defense_data.loc[defense_data_a['Team'] == 'Dallas Cowboys']\n",
    "#covert dashes to zeros \n",
    "defense_dallas = defense_data_dal.replace(to_replace='--', value =0)\n",
    "#drop any rows for missing information \n",
    "defense_dallas_stats = defense_dallas.dropna(how='any')\n",
    "defense_dallas_stats\n",
    "\n",
    "\n",
    "\n",
    "defense_dallas_stats[\"Sacks\"] = defense_dallas_stats[\"Sacks\"].astype(float)\n",
    "defense_dallas_stats[\"Safties\"] = defense_dallas_stats[\"Safties\"].astype(float)\n",
    "defense_dallas_stats[\"Ints\"] = defense_dallas_stats[\"Ints\"].astype(float)\n",
    "## comeback todefense_dallas_stats[\"Sacks\"] = defense_dallas_stats[\"Sacks\"].astype(float)\n",
    "defense_dallas_stats.dtypes\n",
    "#to get rid of red box below\n",
    "#new_file = defense_dallas_stats.copy()\n",
    "\n"
   ]
  },
  {
   "cell_type": "code",
   "execution_count": 5,
   "id": "08bb9e48",
   "metadata": {},
   "outputs": [
    {
     "data": {
      "text/plain": [
       "Name        object\n",
       "Year         int64\n",
       "Team        object\n",
       "Sacks      float64\n",
       "Safties    float64\n",
       "Ints       float64\n",
       "dtype: object"
      ]
     },
     "execution_count": 5,
     "metadata": {},
     "output_type": "execute_result"
    }
   ],
   "source": [
    "###\n",
    "#defnes_stats is the dataframe we will start with gives us our columns the years we are looking at\n",
    "#isolate the NFC East\n",
    "defense_nfc = defense_stats.loc[(defense_stats['Team'] == 'Philadelphia Eagles') | (defense_stats['Team'] == 'New York Giants')| (defense_stats['Team'] == 'Washington Redskins') | (defense_stats['Team'] == 'Dallas Cowboys')]\n",
    "\n",
    "#get rid of the dashes make them zeroes \n",
    "\n",
    "defense_nfc_stats = defense_nfc.replace(to_replace='--', value =0)\n",
    "\n",
    "defense_nfc_stats[\"Sacks\"] = defense_nfc_stats[\"Sacks\"].astype(float)\n",
    "defense_nfc_stats[\"Safties\"] = defense_nfc_stats[\"Safties\"].astype(float)\n",
    "defense_nfc_stats[\"Ints\"] = defense_nfc_stats[\"Ints\"].astype(float)\n",
    "#defense_nfc_stats[\"Team\"] = defense_nfc_stats[\"Team\"].astype(str)\n",
    "\n",
    "\n",
    "#drop any rows for missing information \n",
    "defense_nfc_stats = defense_nfc_stats.dropna(how='any')\n",
    "\n",
    "defense_nfc_stats.dtypes\n"
   ]
  },
  {
   "cell_type": "code",
   "execution_count": 6,
   "id": "114f26fa",
   "metadata": {},
   "outputs": [
    {
     "data": {
      "text/html": [
       "<div>\n",
       "<style scoped>\n",
       "    .dataframe tbody tr th:only-of-type {\n",
       "        vertical-align: middle;\n",
       "    }\n",
       "\n",
       "    .dataframe tbody tr th {\n",
       "        vertical-align: top;\n",
       "    }\n",
       "\n",
       "    .dataframe thead th {\n",
       "        text-align: right;\n",
       "    }\n",
       "</style>\n",
       "<table border=\"1\" class=\"dataframe\">\n",
       "  <thead>\n",
       "    <tr style=\"text-align: right;\">\n",
       "      <th></th>\n",
       "      <th>P-Value Redskins v. Cowboys</th>\n",
       "      <th>P-Value Eagles v. Cowboys</th>\n",
       "      <th>P-Value Giants v. Cowboys</th>\n",
       "    </tr>\n",
       "  </thead>\n",
       "  <tbody>\n",
       "    <tr>\n",
       "      <th>0</th>\n",
       "      <td>0.641784</td>\n",
       "      <td>0.544476</td>\n",
       "      <td>0.817269</td>\n",
       "    </tr>\n",
       "  </tbody>\n",
       "</table>\n",
       "</div>"
      ],
      "text/plain": [
       "   P-Value Redskins v. Cowboys  P-Value Eagles v. Cowboys  \\\n",
       "0                     0.641784                   0.544476   \n",
       "\n",
       "   P-Value Giants v. Cowboys  \n",
       "0                   0.817269  "
      ]
     },
     "execution_count": 6,
     "metadata": {},
     "output_type": "execute_result"
    }
   ],
   "source": [
    "#ttest sacks\n",
    "#is there a statistical difference between the Dallas Cowboys and its NFC East Competitors \n",
    "\n",
    "cowboys = defense_nfc_stats.loc[defense_nfc_stats['Team'] == 'Dallas Cowboys'] \n",
    "eagles = defense_nfc_stats.loc[defense_nfc_stats['Team'] == 'Philadelphia Eagles'] \n",
    "giants = defense_nfc_stats.loc[defense_nfc_stats['Team'] == 'New York Giants'] \n",
    "redskins = defense_nfc_stats.loc[defense_nfc_stats['Team'] == 'Washington Redskins'] \n",
    "\n",
    "\n",
    "import scipy.stats as stats \n",
    "\n",
    "#comparing to see if the teams are statistically different across the avergae player sacks... \n",
    "#p value <0.05 on the pvalue means there is a statistical difference between the two teams \n",
    "comparison_redskins = stats.ttest_ind(cowboys['Sacks'], redskins['Sacks']).pvalue\n",
    "comparison_eagles = stats.ttest_ind(cowboys['Sacks'], eagles['Sacks']).pvalue\n",
    "comparison_giants = stats.ttest_ind(cowboys['Sacks'], giants['Sacks']).pvalue\n",
    "\n",
    "sacks_ttest_df = pd.DataFrame({\n",
    "    'P-Value Redskins v. Cowboys':[comparison_redskins],\n",
    "    'P-Value Eagles v. Cowboys':[comparison_eagles],\n",
    "    'P-Value Giants v. Cowboys':[comparison_giants]\n",
    "})\n",
    "\n",
    "# #have questions on how to present this data ttest ask BILL \n",
    "\n",
    "sacks_ttest_df"
   ]
  },
  {
   "cell_type": "code",
   "execution_count": 7,
   "id": "5614f7ca",
   "metadata": {},
   "outputs": [
    {
     "data": {
      "text/html": [
       "<div>\n",
       "<style scoped>\n",
       "    .dataframe tbody tr th:only-of-type {\n",
       "        vertical-align: middle;\n",
       "    }\n",
       "\n",
       "    .dataframe tbody tr th {\n",
       "        vertical-align: top;\n",
       "    }\n",
       "\n",
       "    .dataframe thead th {\n",
       "        text-align: right;\n",
       "    }\n",
       "</style>\n",
       "<table border=\"1\" class=\"dataframe\">\n",
       "  <thead>\n",
       "    <tr style=\"text-align: right;\">\n",
       "      <th></th>\n",
       "      <th>P-Value Redskins v. Cowboys</th>\n",
       "      <th>P-Value Eagles v. Cowboys</th>\n",
       "      <th>P-Value Giants v. Cowboys</th>\n",
       "    </tr>\n",
       "  </thead>\n",
       "  <tbody>\n",
       "    <tr>\n",
       "      <th>0</th>\n",
       "      <td>0.419375</td>\n",
       "      <td>0.998235</td>\n",
       "      <td>0.389073</td>\n",
       "    </tr>\n",
       "  </tbody>\n",
       "</table>\n",
       "</div>"
      ],
      "text/plain": [
       "   P-Value Redskins v. Cowboys  P-Value Eagles v. Cowboys  \\\n",
       "0                     0.419375                   0.998235   \n",
       "\n",
       "   P-Value Giants v. Cowboys  \n",
       "0                   0.389073  "
      ]
     },
     "execution_count": 7,
     "metadata": {},
     "output_type": "execute_result"
    }
   ],
   "source": [
    "#ttest safties\n",
    "\n",
    "#comparing to see if the teams are statistically different across the avergae player sacks... \n",
    "#p value <0.05 on the pvalue means there is a statistical difference between the two teams \n",
    "comp_saf_redskins = stats.ttest_ind(cowboys['Safties'], redskins['Safties']).pvalue\n",
    "comp_saf_eagles = stats.ttest_ind(cowboys['Safties'], eagles['Safties']).pvalue\n",
    "comp_saf_giants = stats.ttest_ind(cowboys['Safties'], giants['Safties']).pvalue\n",
    "\n",
    "safties_ttest_df = pd.DataFrame({\n",
    "    'P-Value Redskins v. Cowboys':[comp_saf_redskins],\n",
    "    'P-Value Eagles v. Cowboys':[comp_saf_eagles],\n",
    "    'P-Value Giants v. Cowboys':[comp_saf_giants]\n",
    "})\n",
    "\n",
    "#sacks_ttest_df = sacks_ttest_df.set_index('Team')\n",
    "# #have questions on how to present this data ttest ask BILL \n",
    "\n",
    "safties_ttest_df"
   ]
  },
  {
   "cell_type": "code",
   "execution_count": 8,
   "id": "4e862dd6",
   "metadata": {},
   "outputs": [
    {
     "data": {
      "text/html": [
       "<div>\n",
       "<style scoped>\n",
       "    .dataframe tbody tr th:only-of-type {\n",
       "        vertical-align: middle;\n",
       "    }\n",
       "\n",
       "    .dataframe tbody tr th {\n",
       "        vertical-align: top;\n",
       "    }\n",
       "\n",
       "    .dataframe thead th {\n",
       "        text-align: right;\n",
       "    }\n",
       "</style>\n",
       "<table border=\"1\" class=\"dataframe\">\n",
       "  <thead>\n",
       "    <tr style=\"text-align: right;\">\n",
       "      <th></th>\n",
       "      <th>P-Value Redskins v. Cowboys</th>\n",
       "      <th>P-Value Eagles v. Cowboys</th>\n",
       "      <th>P-Value Giants v. Cowboys</th>\n",
       "    </tr>\n",
       "  </thead>\n",
       "  <tbody>\n",
       "    <tr>\n",
       "      <th>0</th>\n",
       "      <td>0.724696</td>\n",
       "      <td>0.325863</td>\n",
       "      <td>0.431598</td>\n",
       "    </tr>\n",
       "  </tbody>\n",
       "</table>\n",
       "</div>"
      ],
      "text/plain": [
       "   P-Value Redskins v. Cowboys  P-Value Eagles v. Cowboys  \\\n",
       "0                     0.724696                   0.325863   \n",
       "\n",
       "   P-Value Giants v. Cowboys  \n",
       "0                   0.431598  "
      ]
     },
     "execution_count": 8,
     "metadata": {},
     "output_type": "execute_result"
    }
   ],
   "source": [
    "#ttest Ints\n",
    "\n",
    "#comparing to see if the teams are statistically different across the avergae player sacks... \n",
    "#p value <0.05 on the pvalue means there is a statistical difference between the two teams \n",
    "comp_ints_redskins = stats.ttest_ind(cowboys['Ints'], redskins['Ints']).pvalue\n",
    "comp_ints_eagles = stats.ttest_ind(cowboys['Ints'], eagles['Ints']).pvalue\n",
    "comp_ints_giants = stats.ttest_ind(cowboys['Ints'], giants['Ints']).pvalue\n",
    "\n",
    "ints_ttest_df = pd.DataFrame({\n",
    "    'P-Value Redskins v. Cowboys':[comp_ints_redskins],\n",
    "    'P-Value Eagles v. Cowboys':[comp_ints_eagles],\n",
    "    'P-Value Giants v. Cowboys':[comp_ints_giants]\n",
    "})\n",
    "\n",
    "#sacks_ttest_df = sacks_ttest_df.set_index('Team')\n",
    "# #have questions on how to present this data ttest ask BILL \n",
    "\n",
    "ints_ttest_df"
   ]
  },
  {
   "cell_type": "code",
   "execution_count": null,
   "id": "cb98eecc",
   "metadata": {},
   "outputs": [],
   "source": []
  },
  {
   "cell_type": "code",
   "execution_count": 9,
   "id": "a50927ed",
   "metadata": {},
   "outputs": [
    {
     "data": {
      "text/html": [
       "<div>\n",
       "<style scoped>\n",
       "    .dataframe tbody tr th:only-of-type {\n",
       "        vertical-align: middle;\n",
       "    }\n",
       "\n",
       "    .dataframe tbody tr th {\n",
       "        vertical-align: top;\n",
       "    }\n",
       "\n",
       "    .dataframe thead th {\n",
       "        text-align: right;\n",
       "    }\n",
       "</style>\n",
       "<table border=\"1\" class=\"dataframe\">\n",
       "  <thead>\n",
       "    <tr style=\"text-align: right;\">\n",
       "      <th></th>\n",
       "      <th>Avg. Sacks</th>\n",
       "      <th>Avg. Safties</th>\n",
       "      <th>Avg. Ints</th>\n",
       "      <th>Max Sacks</th>\n",
       "    </tr>\n",
       "    <tr>\n",
       "      <th>Team</th>\n",
       "      <th></th>\n",
       "      <th></th>\n",
       "      <th></th>\n",
       "      <th></th>\n",
       "    </tr>\n",
       "  </thead>\n",
       "  <tbody>\n",
       "    <tr>\n",
       "      <th>Dallas Cowboys</th>\n",
       "      <td>0.8186</td>\n",
       "      <td>0.0054</td>\n",
       "      <td>0.2798</td>\n",
       "      <td>20.0</td>\n",
       "    </tr>\n",
       "    <tr>\n",
       "      <th>New York Giants</th>\n",
       "      <td>0.7871</td>\n",
       "      <td>0.0100</td>\n",
       "      <td>0.3213</td>\n",
       "      <td>16.5</td>\n",
       "    </tr>\n",
       "    <tr>\n",
       "      <th>Philadelphia Eagles</th>\n",
       "      <td>0.9000</td>\n",
       "      <td>0.0054</td>\n",
       "      <td>0.3333</td>\n",
       "      <td>18.0</td>\n",
       "    </tr>\n",
       "    <tr>\n",
       "      <th>Washington Redskins</th>\n",
       "      <td>0.7573</td>\n",
       "      <td>0.0097</td>\n",
       "      <td>0.2979</td>\n",
       "      <td>13.5</td>\n",
       "    </tr>\n",
       "  </tbody>\n",
       "</table>\n",
       "</div>"
      ],
      "text/plain": [
       "                    Avg. Sacks Avg. Safties Avg. Ints  Max Sacks\n",
       "Team                                                            \n",
       "Dallas Cowboys          0.8186       0.0054    0.2798       20.0\n",
       "New York Giants         0.7871       0.0100    0.3213       16.5\n",
       "Philadelphia Eagles     0.9000       0.0054    0.3333       18.0\n",
       "Washington Redskins     0.7573       0.0097    0.2979       13.5"
      ]
     },
     "execution_count": 9,
     "metadata": {},
     "output_type": "execute_result"
    }
   ],
   "source": [
    "#averages \n",
    "\n",
    "avg_test = defense_nfc_stats.groupby('Team')\n",
    "\n",
    "avg_sacks = avg_test['Sacks'].mean().map('{:.04f}'.format)\n",
    "avg_safties= avg_test['Safties'].mean().map('{:.04f}'.format)\n",
    "avg_ints = avg_test['Ints'].mean().map('{:.04f}'.format)\n",
    "\n",
    "max_sacks = avg_test['Sacks'].max()\n",
    "#do a min !!!!!!\n",
    "# make more box plots !!! \n",
    "#presenting to a technical audience so you can have both slides and flip to your jupyter notebook \n",
    "\n",
    "\n",
    "#per player per season each row\n",
    "# sum_safties= avg_test['Safties'].sum()\n",
    "# sum_ints = avg_test['Ints'].sum()\n",
    "\n",
    "stats_nfc_east= pd.DataFrame({\n",
    "    'Avg. Sacks':avg_sacks,\n",
    "    'Avg. Safties':avg_safties,\n",
    "    'Avg. Ints':avg_ints,\n",
    "    'Max Sacks':max_sacks,\n",
    "#     'Sum Safties':sum_safties,\n",
    "#     'Sum Ints':sum_ints,\n",
    "})\n",
    "stats_nfc_east.head()\n",
    "\n"
   ]
  },
  {
   "cell_type": "code",
   "execution_count": 10,
   "id": "88ee8378",
   "metadata": {},
   "outputs": [
    {
     "data": {
      "image/png": "[encoded data removed]",
      "text/plain": [
       "<Figure size 1440x720 with 1 Axes>"
      ]
     },
     "metadata": {
      "needs_background": "light"
     },
     "output_type": "display_data"
    }
   ],
   "source": [
    "defense_nfc_stats.boxplot(\"Sacks\", by=\"Team\", figsize=(20, 10))\n",
    "#defense_nfc_stats_final.head()\n",
    "plt.ylabel('Sacks')\n",
    "\n",
    "plt.show()\n"
   ]
  },
  {
   "cell_type": "code",
   "execution_count": 11,
   "id": "7631ccd5",
   "metadata": {},
   "outputs": [
    {
     "data": {
      "text/plain": [
       "Name        object\n",
       "Year         int64\n",
       "Team        object\n",
       "Sacks      float64\n",
       "Safties    float64\n",
       "Ints       float64\n",
       "dtype: object"
      ]
     },
     "execution_count": 11,
     "metadata": {},
     "output_type": "execute_result"
    }
   ],
   "source": [
    "#tukey the eagles, redskins, giants \n",
    "#create eagles only df to compare to Dallas \n",
    "eagles_nfc = defense_stats.loc[(defense_stats['Team'] == 'Philadelphia Eagles')]\n",
    "\n",
    "#get rid of the dashes make them zeroes \n",
    "\n",
    "eagles_nfc_stats = eagles_nfc.replace(to_replace='--', value =0)\n",
    "\n",
    "eagles_nfc_stats[\"Sacks\"] = defense_nfc_stats[\"Sacks\"].astype(float)\n",
    "eagles_nfc_stats[\"Safties\"] = defense_nfc_stats[\"Safties\"].astype(float)\n",
    "eagles_nfc_stats[\"Ints\"] = defense_nfc_stats[\"Ints\"].astype(float)\n",
    "\n",
    "#drop any rows for missing information \n",
    "eagles_nfc_stats = defense_nfc_stats.dropna(how='any')\n",
    "\n",
    "eagles_nfc_stats.dtypes"
   ]
  },
  {
   "cell_type": "code",
   "execution_count": 12,
   "id": "14838e8e",
   "metadata": {},
   "outputs": [
    {
     "data": {
      "text/plain": [
       "F_onewayResult(statistic=8.372316899752521, pvalue=0.0038449662044102205)"
      ]
     },
     "execution_count": 12,
     "metadata": {},
     "output_type": "execute_result"
    }
   ],
   "source": [
    "#one way, sacks \n",
    "stats.f_oneway(defense_dallas_stats['Sacks'], eagles_nfc_stats['Sacks'])"
   ]
  },
  {
   "cell_type": "code",
   "execution_count": 13,
   "id": "bc45ca16",
   "metadata": {},
   "outputs": [
    {
     "data": {
      "text/plain": [
       "F_onewayResult(statistic=0.25605635843788166, pvalue=0.6128901125234607)"
      ]
     },
     "execution_count": 13,
     "metadata": {},
     "output_type": "execute_result"
    }
   ],
   "source": [
    "#one way safties\n",
    "stats.f_oneway(defense_dallas_stats['Safties'], eagles_nfc_stats['Safties'])"
   ]
  },
  {
   "cell_type": "code",
   "execution_count": 14,
   "id": "cc863931",
   "metadata": {},
   "outputs": [
    {
     "data": {
      "text/plain": [
       "F_onewayResult(statistic=5.284519307076588, pvalue=0.021603419137369635)"
      ]
     },
     "execution_count": 14,
     "metadata": {},
     "output_type": "execute_result"
    }
   ],
   "source": [
    "#oneway Ints\n",
    "stats.f_oneway(defense_dallas_stats['Ints'], eagles_nfc_stats['Ints'])"
   ]
  },
  {
   "cell_type": "code",
   "execution_count": 15,
   "id": "3aff9bee",
   "metadata": {},
   "outputs": [],
   "source": [
    "# # #paired comparisons Dallas Cowboys versus Redskins\n",
    "\n",
    "# redskins_nfc = defense_stats.loc[(defense_stats['Team'] == 'Washington Redskins')]\n",
    "\n",
    "# # #get rid of the dashes make them zeroes \n",
    "\n",
    "# redskins_nfc_stats = redskins_nfc.replace(to_replace='--', value =0)\n",
    "\n",
    "# redskins_nfc_stats[\"Sacks\"] = defense_nfc_stats[\"Sacks\"].astype(float)\n",
    "# redskins_nfc_stats[\"Safties\"] = defense_nfc_stats[\"Safties\"].astype(float)\n",
    "# redskins_nfc_stats[\"Ints\"] = defense_nfc_stats[\"Ints\"].astype(float)\n",
    "\n",
    "# # #drop any rows for missing information \n",
    "# redskins_nfc_stats = defense_nfc_stats.dropna(how='any')\n",
    "\n",
    "# redskins_nfc_stats.dtypes"
   ]
  },
  {
   "cell_type": "code",
   "execution_count": 16,
   "id": "518e2f20",
   "metadata": {},
   "outputs": [],
   "source": [
    "#one way, sacks \n",
    "#stats.f_oneway(eagles_nfc_stats['Sacks'], redskins_nfc_stats['Sacks'])"
   ]
  },
  {
   "cell_type": "code",
   "execution_count": 17,
   "id": "28a040bf",
   "metadata": {},
   "outputs": [],
   "source": [
    "#one way safties\n",
    "# stats.f_oneway(defense_dallas_stats['Safties'], redskins_nfc_stats['Safties'])"
   ]
  },
  {
   "cell_type": "code",
   "execution_count": 18,
   "id": "4fc6168c",
   "metadata": {},
   "outputs": [],
   "source": [
    "# one Ints\n",
    "# stats.f_oneway(defense_dallas_stats['Ints'], redskins_nfc_stats['Ints'])"
   ]
  },
  {
   "cell_type": "code",
   "execution_count": 19,
   "id": "615e4d57",
   "metadata": {},
   "outputs": [],
   "source": [
    "\n",
    "# giants_nfc = defense_stats.loc[(defense_stats['Team'] == 'New York Giants')]\n",
    "\n",
    "\n",
    "# giants_nfc_stats = giants_nfc.replace(to_replace='--', value =0)\n",
    "\n",
    "# giants_nfc_stats[\"Sacks\"] = defense_nfc_stats[\"Sacks\"].astype(float)\n",
    "# giants_nfc_stats[\"Safties\"] = defense_nfc_stats[\"Safties\"].astype(float)\n",
    "# giants_nfc_stats[\"Ints\"] = defense_nfc_stats[\"Ints\"].astype(float)\n",
    "\n",
    "# giants_nfc_stats = defense_nfc_stats.dropna(how='any')\n",
    "\n",
    "# giants_nfc_stats.dtypes"
   ]
  },
  {
   "cell_type": "code",
   "execution_count": 20,
   "id": "41c21a94",
   "metadata": {},
   "outputs": [],
   "source": [
    "#stats.f_oneway(defense_dallas_stats['Sacks'], giants_nfc_stats['Sacks'])"
   ]
  },
  {
   "cell_type": "code",
   "execution_count": 21,
   "id": "7ab271f1",
   "metadata": {},
   "outputs": [],
   "source": [
    "#stats.f_oneway(defense_dallas_stats['Safties'], giants_nfc_stats['Safties'])"
   ]
  },
  {
   "cell_type": "code",
   "execution_count": 22,
   "id": "9932fc3f",
   "metadata": {},
   "outputs": [],
   "source": [
    "#stats.f_oneway(defense_dallas_stats['Ints'], giants_nfc_stats['Ints'])"
   ]
  },
  {
   "cell_type": "code",
   "execution_count": 23,
   "id": "739dffc0",
   "metadata": {},
   "outputs": [
    {
     "name": "stdout",
     "output_type": "stream",
     "text": [
      "             Multiple Comparison of Means - Tukey HSD, FWER=0.05             \n",
      "=============================================================================\n",
      "       group1              group2       meandiff p-adj   lower  upper  reject\n",
      "-----------------------------------------------------------------------------\n",
      "     Dallas Cowboys     New York Giants  -0.0314    0.9 -0.3694 0.3065  False\n",
      "     Dallas Cowboys Philadelphia Eagles   0.0814    0.9 -0.2473 0.4101  False\n",
      "     Dallas Cowboys Washington Redskins  -0.0613    0.9  -0.396 0.2733  False\n",
      "    New York Giants Philadelphia Eagles   0.1129  0.803 -0.2249 0.4506  False\n",
      "    New York Giants Washington Redskins  -0.0299    0.9 -0.3735 0.3137  False\n",
      "Philadelphia Eagles Washington Redskins  -0.1427 0.6694 -0.4772 0.1917  False\n",
      "-----------------------------------------------------------------------------\n"
     ]
    },
    {
     "data": {
      "image/png": "[encoded data removed]",
      "text/plain": [
       "<Figure size 432x288 with 1 Axes>"
      ]
     },
     "metadata": {
      "needs_background": "light"
     },
     "output_type": "display_data"
    }
   ],
   "source": [
    "from statsmodels.stats.multicomp import pairwise_tukeyhsd\n",
    "import matplotlib.pyplot as plt \n",
    "\n",
    "#paired comparisons Dallas Cowboys versus Eagles versus Redskins versus Giants 'Sacks'\n",
    "#tukey = pairwise_tukeyhsd(endog=defense_nfc_stats_final['Safties'], groups= defense_nfc_stats_final['Team'], alpha=0.05)\n",
    "tukey = pairwise_tukeyhsd(defense_nfc_stats['Sacks'], defense_nfc_stats['Team'], alpha=0.05)\n",
    "print(tukey)\n",
    "rows = tukey.summary().data[1:]\n",
    "\n",
    "plt.hlines(range(len(rows)), [row[3] for row in rows], [row[4] for row in rows])\n",
    "plt.vlines(0, -1, len(rows)-1, linestyles='dashed') \n",
    "plt.gca().set_yticks(range(len(rows)))\n",
    "plt.gca().set_yticklabels([f'{x[0]}-{x[1]}' for x in rows])\n",
    "plt.title('Ttest: NFC East Sacks')\n",
    "plt.show()"
   ]
  },
  {
   "cell_type": "code",
   "execution_count": 24,
   "id": "947745ff",
   "metadata": {
    "scrolled": true
   },
   "outputs": [
    {
     "name": "stdout",
     "output_type": "stream",
     "text": [
      "             Multiple Comparison of Means - Tukey HSD, FWER=0.05             \n",
      "=============================================================================\n",
      "       group1              group2       meandiff p-adj   lower  upper  reject\n",
      "-----------------------------------------------------------------------------\n",
      "     Dallas Cowboys     New York Giants   0.0046 0.7993 -0.0091 0.0184  False\n",
      "     Dallas Cowboys Philadelphia Eagles     -0.0    0.9 -0.0134 0.0133  False\n",
      "     Dallas Cowboys Washington Redskins   0.0043 0.8336 -0.0093 0.0179  False\n",
      "    New York Giants Philadelphia Eagles  -0.0046  0.798 -0.0184 0.0091  False\n",
      "    New York Giants Washington Redskins  -0.0004    0.9 -0.0143 0.0136  False\n",
      "Philadelphia Eagles Washington Redskins   0.0043 0.8324 -0.0093 0.0179  False\n",
      "-----------------------------------------------------------------------------\n"
     ]
    },
    {
     "data": {
      "image/png": "[encoded data removed]",
      "text/plain": [
       "<Figure size 432x288 with 1 Axes>"
      ]
     },
     "metadata": {
      "needs_background": "light"
     },
     "output_type": "display_data"
    }
   ],
   "source": [
    "\n",
    "#paired comparisons Dallas Cowboys versus Eagles versus Redskins versus Giants 'Safties'\n",
    "#tukey = pairwise_tukeyhsd(endog=defense_nfc_stats_final['Safties'], groups= defense_nfc_stats_final['Team'], alpha=0.05)\n",
    "tukey = pairwise_tukeyhsd(defense_nfc_stats['Safties'], defense_nfc_stats['Team'], alpha=0.05)\n",
    "print(tukey)\n",
    "rows = tukey.summary().data[1:]\n",
    "\n",
    "plt.hlines(range(len(rows)), [row[3] for row in rows], [row[4] for row in rows])\n",
    "plt.vlines(0, -1, len(rows)-1, linestyles='dashed') \n",
    "plt.gca().set_yticks(range(len(rows)))\n",
    "plt.gca().set_yticklabels([f'{x[0]}-{x[1]}' for x in rows])\n",
    "plt.title('Ttest: NFC East Safties')\n",
    "plt.show()"
   ]
  },
  {
   "cell_type": "code",
   "execution_count": 26,
   "id": "29f0fb5b",
   "metadata": {},
   "outputs": [
    {
     "name": "stdout",
     "output_type": "stream",
     "text": [
      "             Multiple Comparison of Means - Tukey HSD, FWER=0.05             \n",
      "=============================================================================\n",
      "       group1              group2       meandiff p-adj   lower  upper  reject\n",
      "-----------------------------------------------------------------------------\n",
      "     Dallas Cowboys     New York Giants   0.0415 0.8619    -0.1  0.183  False\n",
      "     Dallas Cowboys Philadelphia Eagles   0.0535 0.7236 -0.0841 0.1912  False\n",
      "     Dallas Cowboys Washington Redskins   0.0181    0.9  -0.122 0.1582  False\n",
      "    New York Giants Philadelphia Eagles    0.012    0.9 -0.1294 0.1535  False\n",
      "    New York Giants Washington Redskins  -0.0234    0.9 -0.1673 0.1205  False\n",
      "Philadelphia Eagles Washington Redskins  -0.0355    0.9 -0.1755 0.1046  False\n",
      "-----------------------------------------------------------------------------\n"
     ]
    },
    {
     "data": {
      "image/png": "[encoded data removed]",
      "text/plain": [
       "<Figure size 432x288 with 1 Axes>"
      ]
     },
     "metadata": {
      "needs_background": "light"
     },
     "output_type": "display_data"
    }
   ],
   "source": [
    "\n",
    "#paired comparisons Dallas Cowboys versus Eagles versus Redskins versus Giants 'Ints'\n",
    "#tukey = pairwise_tukeyhsd(endog=defense_nfc_stats_final['Safties'], groups= defense_nfc_stats_final['Team'], alpha=0.05)\n",
    "tukey = pairwise_tukeyhsd(defense_nfc_stats['Ints'], defense_nfc_stats['Team'], alpha=0.05)\n",
    "print(tukey)\n",
    "rows = tukey.summary().data[1:]\n",
    "\n",
    "plt.hlines(range(len(rows)), [row[3] for row in rows], [row[4] for row in rows])\n",
    "plt.vlines(0, -1, len(rows)-1, linestyles='dashed') \n",
    "plt.gca().set_yticks(range(len(rows)))\n",
    "plt.gca().set_yticklabels([f'{x[0]}-{x[1]}' for x in rows])\n",
    "plt.title('Ttest: NFC East Ints')\n",
    "plt.show()"
   ]
  },
  {
   "cell_type": "code",
   "execution_count": null,
   "id": "ef45c80b",
   "metadata": {},
   "outputs": [],
   "source": []
  },
  {
   "cell_type": "code",
   "execution_count": null,
   "id": "be4bca93",
   "metadata": {},
   "outputs": [],
   "source": []
  },
  {
   "cell_type": "code",
   "execution_count": null,
   "id": "3e391eb1",
   "metadata": {},
   "outputs": [],
   "source": []
  }
 ],
 "metadata": {
  "kernelspec": {
   "display_name": "Python 3 (ipykernel)",
   "language": "python",
   "name": "python3"
  },
  "language_info": {
   "codemirror_mode": {
    "name": "ipython",
    "version": 3
   },
   "file_extension": ".py",
   "mimetype": "text/x-python",
   "name": "python",
   "nbconvert_exporter": "python",
   "pygments_lexer": "ipython3",
   "version": "3.9.7"
  }
 },
 "nbformat": 4,
 "nbformat_minor": 5
}
